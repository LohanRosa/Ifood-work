{
  "nbformat": 4,
  "nbformat_minor": 0,
  "metadata": {
    "colab": {
      "provenance": [],
      "authorship_tag": "ABX9TyM4tDVoOqryvFqXIsSYIGpK",
      "include_colab_link": true
    },
    "kernelspec": {
      "name": "python3",
      "display_name": "Python 3"
    },
    "language_info": {
      "name": "python"
    }
  },
  "cells": [
    {
      "cell_type": "markdown",
      "metadata": {
        "id": "view-in-github",
        "colab_type": "text"
      },
      "source": [
        "<a href=\"https://colab.research.google.com/github/LohanRosa/Ifood-work/blob/main/Ifood_work.ipynb\" target=\"_parent\"><img src=\"https://colab.research.google.com/assets/colab-badge.svg\" alt=\"Open In Colab\"/></a>"
      ]
    },
    {
      "cell_type": "markdown",
      "source": [
        "#Nosso desafio: Desafio Ifood\n",
        "\n",
        "O conjunto de dados é composto por clientes da empresa Ifood com dados sobre:\n",
        "\n",
        "Perfis de clientes\n",
        "\n",
        "Preferências do produto\n",
        "\n",
        "Sucessos/fracassos da campanha\n",
        "\n",
        "Desempenho do canal\n",
        "\n",
        "##O objetivo de hoje é fazer uma análise exploratória desses dados. Responda usando a sua ferramenta de preferência:\n",
        "\n",
        "Quantos dados temos? Linhas e colunas\n",
        "\n",
        "Quais são as colunas numéricas?\n",
        "\n",
        "Temos duplicados na nossa base? Se tivermos, retire-os\n",
        "\n",
        "Temos dados nulos nessa base? Será que eles indicam algo? O que fazer com eles?\n",
        "\n",
        "Qual é a média, mediana, 25 percentil, 75 percentil, mínimo e máximo de cada uma das colunas numéricas?\n",
        "\n",
        "##Vamos agora entender o perfil de clientes que temos\n",
        "\n",
        "Qual é o maior salário encontrado na nossa base? Veja na coluna Income\n",
        "\n",
        "Qual é a distribuição de salário na nossa base? Temos clientes que ganham muito bem e outros que não ganham muito bem? Veja na coluna Income\n",
        "\n",
        "Nossos clientes tem níveis de educação maiores ou menores? Veja na coluna education_level\n",
        "\n",
        "Quantos clientes temos em cada estado civil? Veja na coluna marital_status\n",
        "\n",
        "##Agora vamos ver como os dados se correlacionam\n",
        "\n",
        "Qual é a relação de estado civil com número de filhos? Será que as pessoas casadas têm um maior número de filhos? Filhos está na coluna kids\n",
        "\n",
        "As pessoas gastam mais ou menos em nossa plataforma quando têm filhos? Veja nas colunas expenses e kids\n",
        "\n",
        "Pessoas que têm um maior salário gastam mais? Veja nas colunas Income e expenses\n",
        "\n",
        "Vá além!\n"
      ],
      "metadata": {
        "id": "y68pA2JCUCRo"
      }
    },
    {
      "cell_type": "code",
      "execution_count": null,
      "metadata": {
        "id": "Vkmb0vSTN4lc"
      },
      "outputs": [],
      "source": [
        "import pandas as pd\n",
        "import numpy as np\n",
        "import matplotlib.pyplot as plt\n",
        "import seaborn as sns"
      ]
    },
    {
      "cell_type": "code",
      "source": [
        "# reading a csv file and show up\n",
        "df = pd.read_csv(\"mkt_data.csv\")\n",
        "df"
      ],
      "metadata": {
        "colab": {
          "base_uri": "https://localhost:8080/",
          "height": 505
        },
        "id": "V2-kx_TeXH1t",
        "outputId": "a8d1dadb-9963-49cf-8554-c7069c042e00"
      },
      "execution_count": null,
      "outputs": [
        {
          "output_type": "execute_result",
          "data": {
            "text/plain": [
              "      Unnamed: 0   Income  Kidhome  Teenhome  Recency  MntWines  MntFruits  \\\n",
              "0              0  58138.0        0         0       58       635         88   \n",
              "1              1  46344.0        1         1       38        11          1   \n",
              "2              2  71613.0        0         0       26       426         49   \n",
              "3              3  26646.0        1         0       26        11          4   \n",
              "4              4  58293.0        1         0       94       173         43   \n",
              "...          ...      ...      ...       ...      ...       ...        ...   \n",
              "2200        2200  61223.0        0         1       46       709         43   \n",
              "2201        2201  64014.0        2         1       56       406          0   \n",
              "2202        2202  56981.0        0         0       91       908         48   \n",
              "2203        2203  69245.0        0         1        8       428         30   \n",
              "2204        2204  52869.0        1         1       40        84          3   \n",
              "\n",
              "      MntMeatProducts  MntFishProducts  MntSweetProducts  ...  \\\n",
              "0                 546              172                88  ...   \n",
              "1                   6                2                 1  ...   \n",
              "2                 127              111                21  ...   \n",
              "3                  20               10                 3  ...   \n",
              "4                 118               46                27  ...   \n",
              "...               ...              ...               ...  ...   \n",
              "2200              182               42               118  ...   \n",
              "2201               30                0                 0  ...   \n",
              "2202              217               32                12  ...   \n",
              "2203              214               80                30  ...   \n",
              "2204               61                2                 1  ...   \n",
              "\n",
              "      education_Graduation  education_Master  education_PhD  MntTotal  \\\n",
              "0                      3.0               NaN            NaN      1529   \n",
              "1                      3.0               NaN            NaN        21   \n",
              "2                      3.0               NaN            NaN       734   \n",
              "3                      3.0               NaN            NaN        48   \n",
              "4                      NaN               NaN            5.0       407   \n",
              "...                    ...               ...            ...       ...   \n",
              "2200                   3.0               NaN            NaN      1094   \n",
              "2201                   NaN               NaN            5.0       436   \n",
              "2202                   3.0               NaN            NaN      1217   \n",
              "2203                   NaN               4.0            NaN       782   \n",
              "2204                   NaN               NaN            5.0       151   \n",
              "\n",
              "      MntRegularProds  AcceptedCmpOverall  marital_status  education_level  \\\n",
              "0                1441                   0          Single       Graduation   \n",
              "1                  15                   0          Single       Graduation   \n",
              "2                 692                   0        Together       Graduation   \n",
              "3                  43                   0        Together       Graduation   \n",
              "4                 392                   0         Married              PhD   \n",
              "...               ...                 ...             ...              ...   \n",
              "2200              847                   0         Married       Graduation   \n",
              "2201              428                   1        Together              PhD   \n",
              "2202             1193                   1        Divorced       Graduation   \n",
              "2203              721                   0        Together           Master   \n",
              "2204              130                   0         Married              PhD   \n",
              "\n",
              "      kids  expenses  \n",
              "0        0      1529  \n",
              "1        2        21  \n",
              "2        0       734  \n",
              "3        1        48  \n",
              "4        1       407  \n",
              "...    ...       ...  \n",
              "2200     1      1094  \n",
              "2201     3       436  \n",
              "2202     0      1217  \n",
              "2203     1       782  \n",
              "2204     2       151  \n",
              "\n",
              "[2205 rows x 44 columns]"
            ],
            "text/html": [
              "\n",
              "  <div id=\"df-4e630ffa-c254-43b5-80d6-80d30b748320\">\n",
              "    <div class=\"colab-df-container\">\n",
              "      <div>\n",
              "<style scoped>\n",
              "    .dataframe tbody tr th:only-of-type {\n",
              "        vertical-align: middle;\n",
              "    }\n",
              "\n",
              "    .dataframe tbody tr th {\n",
              "        vertical-align: top;\n",
              "    }\n",
              "\n",
              "    .dataframe thead th {\n",
              "        text-align: right;\n",
              "    }\n",
              "</style>\n",
              "<table border=\"1\" class=\"dataframe\">\n",
              "  <thead>\n",
              "    <tr style=\"text-align: right;\">\n",
              "      <th></th>\n",
              "      <th>Unnamed: 0</th>\n",
              "      <th>Income</th>\n",
              "      <th>Kidhome</th>\n",
              "      <th>Teenhome</th>\n",
              "      <th>Recency</th>\n",
              "      <th>MntWines</th>\n",
              "      <th>MntFruits</th>\n",
              "      <th>MntMeatProducts</th>\n",
              "      <th>MntFishProducts</th>\n",
              "      <th>MntSweetProducts</th>\n",
              "      <th>...</th>\n",
              "      <th>education_Graduation</th>\n",
              "      <th>education_Master</th>\n",
              "      <th>education_PhD</th>\n",
              "      <th>MntTotal</th>\n",
              "      <th>MntRegularProds</th>\n",
              "      <th>AcceptedCmpOverall</th>\n",
              "      <th>marital_status</th>\n",
              "      <th>education_level</th>\n",
              "      <th>kids</th>\n",
              "      <th>expenses</th>\n",
              "    </tr>\n",
              "  </thead>\n",
              "  <tbody>\n",
              "    <tr>\n",
              "      <th>0</th>\n",
              "      <td>0</td>\n",
              "      <td>58138.0</td>\n",
              "      <td>0</td>\n",
              "      <td>0</td>\n",
              "      <td>58</td>\n",
              "      <td>635</td>\n",
              "      <td>88</td>\n",
              "      <td>546</td>\n",
              "      <td>172</td>\n",
              "      <td>88</td>\n",
              "      <td>...</td>\n",
              "      <td>3.0</td>\n",
              "      <td>NaN</td>\n",
              "      <td>NaN</td>\n",
              "      <td>1529</td>\n",
              "      <td>1441</td>\n",
              "      <td>0</td>\n",
              "      <td>Single</td>\n",
              "      <td>Graduation</td>\n",
              "      <td>0</td>\n",
              "      <td>1529</td>\n",
              "    </tr>\n",
              "    <tr>\n",
              "      <th>1</th>\n",
              "      <td>1</td>\n",
              "      <td>46344.0</td>\n",
              "      <td>1</td>\n",
              "      <td>1</td>\n",
              "      <td>38</td>\n",
              "      <td>11</td>\n",
              "      <td>1</td>\n",
              "      <td>6</td>\n",
              "      <td>2</td>\n",
              "      <td>1</td>\n",
              "      <td>...</td>\n",
              "      <td>3.0</td>\n",
              "      <td>NaN</td>\n",
              "      <td>NaN</td>\n",
              "      <td>21</td>\n",
              "      <td>15</td>\n",
              "      <td>0</td>\n",
              "      <td>Single</td>\n",
              "      <td>Graduation</td>\n",
              "      <td>2</td>\n",
              "      <td>21</td>\n",
              "    </tr>\n",
              "    <tr>\n",
              "      <th>2</th>\n",
              "      <td>2</td>\n",
              "      <td>71613.0</td>\n",
              "      <td>0</td>\n",
              "      <td>0</td>\n",
              "      <td>26</td>\n",
              "      <td>426</td>\n",
              "      <td>49</td>\n",
              "      <td>127</td>\n",
              "      <td>111</td>\n",
              "      <td>21</td>\n",
              "      <td>...</td>\n",
              "      <td>3.0</td>\n",
              "      <td>NaN</td>\n",
              "      <td>NaN</td>\n",
              "      <td>734</td>\n",
              "      <td>692</td>\n",
              "      <td>0</td>\n",
              "      <td>Together</td>\n",
              "      <td>Graduation</td>\n",
              "      <td>0</td>\n",
              "      <td>734</td>\n",
              "    </tr>\n",
              "    <tr>\n",
              "      <th>3</th>\n",
              "      <td>3</td>\n",
              "      <td>26646.0</td>\n",
              "      <td>1</td>\n",
              "      <td>0</td>\n",
              "      <td>26</td>\n",
              "      <td>11</td>\n",
              "      <td>4</td>\n",
              "      <td>20</td>\n",
              "      <td>10</td>\n",
              "      <td>3</td>\n",
              "      <td>...</td>\n",
              "      <td>3.0</td>\n",
              "      <td>NaN</td>\n",
              "      <td>NaN</td>\n",
              "      <td>48</td>\n",
              "      <td>43</td>\n",
              "      <td>0</td>\n",
              "      <td>Together</td>\n",
              "      <td>Graduation</td>\n",
              "      <td>1</td>\n",
              "      <td>48</td>\n",
              "    </tr>\n",
              "    <tr>\n",
              "      <th>4</th>\n",
              "      <td>4</td>\n",
              "      <td>58293.0</td>\n",
              "      <td>1</td>\n",
              "      <td>0</td>\n",
              "      <td>94</td>\n",
              "      <td>173</td>\n",
              "      <td>43</td>\n",
              "      <td>118</td>\n",
              "      <td>46</td>\n",
              "      <td>27</td>\n",
              "      <td>...</td>\n",
              "      <td>NaN</td>\n",
              "      <td>NaN</td>\n",
              "      <td>5.0</td>\n",
              "      <td>407</td>\n",
              "      <td>392</td>\n",
              "      <td>0</td>\n",
              "      <td>Married</td>\n",
              "      <td>PhD</td>\n",
              "      <td>1</td>\n",
              "      <td>407</td>\n",
              "    </tr>\n",
              "    <tr>\n",
              "      <th>...</th>\n",
              "      <td>...</td>\n",
              "      <td>...</td>\n",
              "      <td>...</td>\n",
              "      <td>...</td>\n",
              "      <td>...</td>\n",
              "      <td>...</td>\n",
              "      <td>...</td>\n",
              "      <td>...</td>\n",
              "      <td>...</td>\n",
              "      <td>...</td>\n",
              "      <td>...</td>\n",
              "      <td>...</td>\n",
              "      <td>...</td>\n",
              "      <td>...</td>\n",
              "      <td>...</td>\n",
              "      <td>...</td>\n",
              "      <td>...</td>\n",
              "      <td>...</td>\n",
              "      <td>...</td>\n",
              "      <td>...</td>\n",
              "      <td>...</td>\n",
              "    </tr>\n",
              "    <tr>\n",
              "      <th>2200</th>\n",
              "      <td>2200</td>\n",
              "      <td>61223.0</td>\n",
              "      <td>0</td>\n",
              "      <td>1</td>\n",
              "      <td>46</td>\n",
              "      <td>709</td>\n",
              "      <td>43</td>\n",
              "      <td>182</td>\n",
              "      <td>42</td>\n",
              "      <td>118</td>\n",
              "      <td>...</td>\n",
              "      <td>3.0</td>\n",
              "      <td>NaN</td>\n",
              "      <td>NaN</td>\n",
              "      <td>1094</td>\n",
              "      <td>847</td>\n",
              "      <td>0</td>\n",
              "      <td>Married</td>\n",
              "      <td>Graduation</td>\n",
              "      <td>1</td>\n",
              "      <td>1094</td>\n",
              "    </tr>\n",
              "    <tr>\n",
              "      <th>2201</th>\n",
              "      <td>2201</td>\n",
              "      <td>64014.0</td>\n",
              "      <td>2</td>\n",
              "      <td>1</td>\n",
              "      <td>56</td>\n",
              "      <td>406</td>\n",
              "      <td>0</td>\n",
              "      <td>30</td>\n",
              "      <td>0</td>\n",
              "      <td>0</td>\n",
              "      <td>...</td>\n",
              "      <td>NaN</td>\n",
              "      <td>NaN</td>\n",
              "      <td>5.0</td>\n",
              "      <td>436</td>\n",
              "      <td>428</td>\n",
              "      <td>1</td>\n",
              "      <td>Together</td>\n",
              "      <td>PhD</td>\n",
              "      <td>3</td>\n",
              "      <td>436</td>\n",
              "    </tr>\n",
              "    <tr>\n",
              "      <th>2202</th>\n",
              "      <td>2202</td>\n",
              "      <td>56981.0</td>\n",
              "      <td>0</td>\n",
              "      <td>0</td>\n",
              "      <td>91</td>\n",
              "      <td>908</td>\n",
              "      <td>48</td>\n",
              "      <td>217</td>\n",
              "      <td>32</td>\n",
              "      <td>12</td>\n",
              "      <td>...</td>\n",
              "      <td>3.0</td>\n",
              "      <td>NaN</td>\n",
              "      <td>NaN</td>\n",
              "      <td>1217</td>\n",
              "      <td>1193</td>\n",
              "      <td>1</td>\n",
              "      <td>Divorced</td>\n",
              "      <td>Graduation</td>\n",
              "      <td>0</td>\n",
              "      <td>1217</td>\n",
              "    </tr>\n",
              "    <tr>\n",
              "      <th>2203</th>\n",
              "      <td>2203</td>\n",
              "      <td>69245.0</td>\n",
              "      <td>0</td>\n",
              "      <td>1</td>\n",
              "      <td>8</td>\n",
              "      <td>428</td>\n",
              "      <td>30</td>\n",
              "      <td>214</td>\n",
              "      <td>80</td>\n",
              "      <td>30</td>\n",
              "      <td>...</td>\n",
              "      <td>NaN</td>\n",
              "      <td>4.0</td>\n",
              "      <td>NaN</td>\n",
              "      <td>782</td>\n",
              "      <td>721</td>\n",
              "      <td>0</td>\n",
              "      <td>Together</td>\n",
              "      <td>Master</td>\n",
              "      <td>1</td>\n",
              "      <td>782</td>\n",
              "    </tr>\n",
              "    <tr>\n",
              "      <th>2204</th>\n",
              "      <td>2204</td>\n",
              "      <td>52869.0</td>\n",
              "      <td>1</td>\n",
              "      <td>1</td>\n",
              "      <td>40</td>\n",
              "      <td>84</td>\n",
              "      <td>3</td>\n",
              "      <td>61</td>\n",
              "      <td>2</td>\n",
              "      <td>1</td>\n",
              "      <td>...</td>\n",
              "      <td>NaN</td>\n",
              "      <td>NaN</td>\n",
              "      <td>5.0</td>\n",
              "      <td>151</td>\n",
              "      <td>130</td>\n",
              "      <td>0</td>\n",
              "      <td>Married</td>\n",
              "      <td>PhD</td>\n",
              "      <td>2</td>\n",
              "      <td>151</td>\n",
              "    </tr>\n",
              "  </tbody>\n",
              "</table>\n",
              "<p>2205 rows × 44 columns</p>\n",
              "</div>\n",
              "      <button class=\"colab-df-convert\" onclick=\"convertToInteractive('df-4e630ffa-c254-43b5-80d6-80d30b748320')\"\n",
              "              title=\"Convert this dataframe to an interactive table.\"\n",
              "              style=\"display:none;\">\n",
              "        \n",
              "  <svg xmlns=\"http://www.w3.org/2000/svg\" height=\"24px\"viewBox=\"0 0 24 24\"\n",
              "       width=\"24px\">\n",
              "    <path d=\"M0 0h24v24H0V0z\" fill=\"none\"/>\n",
              "    <path d=\"M18.56 5.44l.94 2.06.94-2.06 2.06-.94-2.06-.94-.94-2.06-.94 2.06-2.06.94zm-11 1L8.5 8.5l.94-2.06 2.06-.94-2.06-.94L8.5 2.5l-.94 2.06-2.06.94zm10 10l.94 2.06.94-2.06 2.06-.94-2.06-.94-.94-2.06-.94 2.06-2.06.94z\"/><path d=\"M17.41 7.96l-1.37-1.37c-.4-.4-.92-.59-1.43-.59-.52 0-1.04.2-1.43.59L10.3 9.45l-7.72 7.72c-.78.78-.78 2.05 0 2.83L4 21.41c.39.39.9.59 1.41.59.51 0 1.02-.2 1.41-.59l7.78-7.78 2.81-2.81c.8-.78.8-2.07 0-2.86zM5.41 20L4 18.59l7.72-7.72 1.47 1.35L5.41 20z\"/>\n",
              "  </svg>\n",
              "      </button>\n",
              "      \n",
              "  <style>\n",
              "    .colab-df-container {\n",
              "      display:flex;\n",
              "      flex-wrap:wrap;\n",
              "      gap: 12px;\n",
              "    }\n",
              "\n",
              "    .colab-df-convert {\n",
              "      background-color: #E8F0FE;\n",
              "      border: none;\n",
              "      border-radius: 50%;\n",
              "      cursor: pointer;\n",
              "      display: none;\n",
              "      fill: #1967D2;\n",
              "      height: 32px;\n",
              "      padding: 0 0 0 0;\n",
              "      width: 32px;\n",
              "    }\n",
              "\n",
              "    .colab-df-convert:hover {\n",
              "      background-color: #E2EBFA;\n",
              "      box-shadow: 0px 1px 2px rgba(60, 64, 67, 0.3), 0px 1px 3px 1px rgba(60, 64, 67, 0.15);\n",
              "      fill: #174EA6;\n",
              "    }\n",
              "\n",
              "    [theme=dark] .colab-df-convert {\n",
              "      background-color: #3B4455;\n",
              "      fill: #D2E3FC;\n",
              "    }\n",
              "\n",
              "    [theme=dark] .colab-df-convert:hover {\n",
              "      background-color: #434B5C;\n",
              "      box-shadow: 0px 1px 3px 1px rgba(0, 0, 0, 0.15);\n",
              "      filter: drop-shadow(0px 1px 2px rgba(0, 0, 0, 0.3));\n",
              "      fill: #FFFFFF;\n",
              "    }\n",
              "  </style>\n",
              "\n",
              "      <script>\n",
              "        const buttonEl =\n",
              "          document.querySelector('#df-4e630ffa-c254-43b5-80d6-80d30b748320 button.colab-df-convert');\n",
              "        buttonEl.style.display =\n",
              "          google.colab.kernel.accessAllowed ? 'block' : 'none';\n",
              "\n",
              "        async function convertToInteractive(key) {\n",
              "          const element = document.querySelector('#df-4e630ffa-c254-43b5-80d6-80d30b748320');\n",
              "          const dataTable =\n",
              "            await google.colab.kernel.invokeFunction('convertToInteractive',\n",
              "                                                     [key], {});\n",
              "          if (!dataTable) return;\n",
              "\n",
              "          const docLinkHtml = 'Like what you see? Visit the ' +\n",
              "            '<a target=\"_blank\" href=https://colab.research.google.com/notebooks/data_table.ipynb>data table notebook</a>'\n",
              "            + ' to learn more about interactive tables.';\n",
              "          element.innerHTML = '';\n",
              "          dataTable['output_type'] = 'display_data';\n",
              "          await google.colab.output.renderOutput(dataTable, element);\n",
              "          const docLink = document.createElement('div');\n",
              "          docLink.innerHTML = docLinkHtml;\n",
              "          element.appendChild(docLink);\n",
              "        }\n",
              "      </script>\n",
              "    </div>\n",
              "  </div>\n",
              "  "
            ]
          },
          "metadata": {},
          "execution_count": 7
        }
      ]
    },
    {
      "cell_type": "code",
      "source": [
        "# we have 2205 rows and 44 columns\n",
        "df.shape\n"
      ],
      "metadata": {
        "colab": {
          "base_uri": "https://localhost:8080/"
        },
        "id": "C3Ss0nIyXTW1",
        "outputId": "31585295-3cc7-4892-f8de-de2f92a96489"
      },
      "execution_count": null,
      "outputs": [
        {
          "output_type": "execute_result",
          "data": {
            "text/plain": [
              "(2205, 44)"
            ]
          },
          "metadata": {},
          "execution_count": 9
        }
      ]
    },
    {
      "cell_type": "code",
      "source": [
        "# showing all the types columns\n",
        "df.info()"
      ],
      "metadata": {
        "colab": {
          "base_uri": "https://localhost:8080/"
        },
        "id": "xkOsogZDYClc",
        "outputId": "9f8f2136-41a5-4fe5-c0e2-fae54054e0c6"
      },
      "execution_count": null,
      "outputs": [
        {
          "output_type": "stream",
          "name": "stdout",
          "text": [
            "<class 'pandas.core.frame.DataFrame'>\n",
            "RangeIndex: 2205 entries, 0 to 2204\n",
            "Data columns (total 44 columns):\n",
            " #   Column                Non-Null Count  Dtype  \n",
            "---  ------                --------------  -----  \n",
            " 0   Unnamed: 0            2205 non-null   int64  \n",
            " 1   Income                2205 non-null   float64\n",
            " 2   Kidhome               2205 non-null   int64  \n",
            " 3   Teenhome              2205 non-null   int64  \n",
            " 4   Recency               2205 non-null   int64  \n",
            " 5   MntWines              2205 non-null   int64  \n",
            " 6   MntFruits             2205 non-null   int64  \n",
            " 7   MntMeatProducts       2205 non-null   int64  \n",
            " 8   MntFishProducts       2205 non-null   int64  \n",
            " 9   MntSweetProducts      2205 non-null   int64  \n",
            " 10  MntGoldProds          2205 non-null   int64  \n",
            " 11  NumDealsPurchases     2205 non-null   int64  \n",
            " 12  NumWebPurchases       2205 non-null   int64  \n",
            " 13  NumCatalogPurchases   2205 non-null   int64  \n",
            " 14  NumStorePurchases     2205 non-null   int64  \n",
            " 15  NumWebVisitsMonth     2205 non-null   int64  \n",
            " 16  AcceptedCmp3          2205 non-null   int64  \n",
            " 17  AcceptedCmp4          2205 non-null   int64  \n",
            " 18  AcceptedCmp5          2205 non-null   int64  \n",
            " 19  AcceptedCmp1          2205 non-null   int64  \n",
            " 20  AcceptedCmp2          2205 non-null   int64  \n",
            " 21  Complain              2205 non-null   int64  \n",
            " 22  Z_CostContact         2205 non-null   int64  \n",
            " 23  Z_Revenue             2205 non-null   int64  \n",
            " 24  Response              2205 non-null   int64  \n",
            " 25  Age                   2205 non-null   int64  \n",
            " 26  Customer_Days         2205 non-null   int64  \n",
            " 27  marital_Divorced      230 non-null    float64\n",
            " 28  marital_Married       854 non-null    float64\n",
            " 29  marital_Single        477 non-null    float64\n",
            " 30  marital_Together      568 non-null    float64\n",
            " 31  marital_Widow         76 non-null     float64\n",
            " 32  education_2n Cycle    198 non-null    float64\n",
            " 33  education_Basic       54 non-null     float64\n",
            " 34  education_Graduation  1113 non-null   float64\n",
            " 35  education_Master      364 non-null    float64\n",
            " 36  education_PhD         476 non-null    float64\n",
            " 37  MntTotal              2205 non-null   int64  \n",
            " 38  MntRegularProds       2205 non-null   int64  \n",
            " 39  AcceptedCmpOverall    2205 non-null   int64  \n",
            " 40  marital_status        2205 non-null   object \n",
            " 41  education_level       2205 non-null   object \n",
            " 42  kids                  2205 non-null   int64  \n",
            " 43  expenses              2205 non-null   int64  \n",
            "dtypes: float64(11), int64(31), object(2)\n",
            "memory usage: 758.1+ KB\n"
          ]
        }
      ]
    },
    {
      "cell_type": "code",
      "source": [
        "# select only numbers columns\n",
        "numerics = ['int64', 'float64']\n",
        "df.select_dtypes(include = numerics).columns"
      ],
      "metadata": {
        "colab": {
          "base_uri": "https://localhost:8080/"
        },
        "id": "HxTtjIwQYX9d",
        "outputId": "b9a96609-5892-4db1-ea5e-8f7437788841"
      },
      "execution_count": null,
      "outputs": [
        {
          "output_type": "execute_result",
          "data": {
            "text/plain": [
              "Index(['Unnamed: 0', 'Income', 'Kidhome', 'Teenhome', 'Recency', 'MntWines',\n",
              "       'MntFruits', 'MntMeatProducts', 'MntFishProducts', 'MntSweetProducts',\n",
              "       'MntGoldProds', 'NumDealsPurchases', 'NumWebPurchases',\n",
              "       'NumCatalogPurchases', 'NumStorePurchases', 'NumWebVisitsMonth',\n",
              "       'AcceptedCmp3', 'AcceptedCmp4', 'AcceptedCmp5', 'AcceptedCmp1',\n",
              "       'AcceptedCmp2', 'Complain', 'Z_CostContact', 'Z_Revenue', 'Response',\n",
              "       'Age', 'Customer_Days', 'marital_Divorced', 'marital_Married',\n",
              "       'marital_Single', 'marital_Together', 'marital_Widow',\n",
              "       'education_2n Cycle', 'education_Basic', 'education_Graduation',\n",
              "       'education_Master', 'education_PhD', 'MntTotal', 'MntRegularProds',\n",
              "       'AcceptedCmpOverall', 'kids', 'expenses'],\n",
              "      dtype='object')"
            ]
          },
          "metadata": {},
          "execution_count": 13
        }
      ]
    },
    {
      "cell_type": "code",
      "source": [
        "# the dataframe don't have duplicated\n",
        "df.duplicated().sum()"
      ],
      "metadata": {
        "colab": {
          "base_uri": "https://localhost:8080/"
        },
        "id": "4FFqKnJAZmD1",
        "outputId": "5d7a1473-450f-45d6-e434-f4c504bb145a"
      },
      "execution_count": null,
      "outputs": [
        {
          "output_type": "execute_result",
          "data": {
            "text/plain": [
              "0"
            ]
          },
          "metadata": {},
          "execution_count": 14
        }
      ]
    },
    {
      "cell_type": "code",
      "source": [
        "# sum the null dataframe\n",
        "df.isnull().sum()"
      ],
      "metadata": {
        "colab": {
          "base_uri": "https://localhost:8080/"
        },
        "id": "eh1PNxkxZyMk",
        "outputId": "ce7828de-1753-4244-da6e-2953eb133878"
      },
      "execution_count": null,
      "outputs": [
        {
          "output_type": "execute_result",
          "data": {
            "text/plain": [
              "Unnamed: 0                 0\n",
              "Income                     0\n",
              "Kidhome                    0\n",
              "Teenhome                   0\n",
              "Recency                    0\n",
              "MntWines                   0\n",
              "MntFruits                  0\n",
              "MntMeatProducts            0\n",
              "MntFishProducts            0\n",
              "MntSweetProducts           0\n",
              "MntGoldProds               0\n",
              "NumDealsPurchases          0\n",
              "NumWebPurchases            0\n",
              "NumCatalogPurchases        0\n",
              "NumStorePurchases          0\n",
              "NumWebVisitsMonth          0\n",
              "AcceptedCmp3               0\n",
              "AcceptedCmp4               0\n",
              "AcceptedCmp5               0\n",
              "AcceptedCmp1               0\n",
              "AcceptedCmp2               0\n",
              "Complain                   0\n",
              "Z_CostContact              0\n",
              "Z_Revenue                  0\n",
              "Response                   0\n",
              "Age                        0\n",
              "Customer_Days              0\n",
              "marital_Divorced        1975\n",
              "marital_Married         1351\n",
              "marital_Single          1728\n",
              "marital_Together        1637\n",
              "marital_Widow           2129\n",
              "education_2n Cycle      2007\n",
              "education_Basic         2151\n",
              "education_Graduation    1092\n",
              "education_Master        1841\n",
              "education_PhD           1729\n",
              "MntTotal                   0\n",
              "MntRegularProds            0\n",
              "AcceptedCmpOverall         0\n",
              "marital_status             0\n",
              "education_level            0\n",
              "kids                       0\n",
              "expenses                   0\n",
              "dtype: int64"
            ]
          },
          "metadata": {},
          "execution_count": 17
        }
      ]
    },
    {
      "cell_type": "markdown",
      "source": [
        "we have null on dataframe, in columns:\n",
        "\n",
        "marital_Divorced\n",
        "marital_Married\n",
        "marital_Single\n",
        "marital_Together\n",
        "marital_Widow\n",
        "education_2n Cycle\n",
        "education_Basic\n",
        "education_Graduation\n",
        "education_Master\n",
        "education_PhD\n",
        "\n",
        "The nulls indicated above may mean that the person does not have that particular characteristic. Note that these columns only have nulls or a certain other value. For example:"
      ],
      "metadata": {
        "id": "Zw0S3ytjbAS3"
      }
    },
    {
      "cell_type": "code",
      "source": [
        "# pick a value column education_PhD\n",
        "df.education_PhD.value_counts()"
      ],
      "metadata": {
        "colab": {
          "base_uri": "https://localhost:8080/"
        },
        "id": "hIGqMDiKaJWj",
        "outputId": "a8470f30-0025-496d-cbfc-051f0405fa45"
      },
      "execution_count": null,
      "outputs": [
        {
          "output_type": "execute_result",
          "data": {
            "text/plain": [
              "5.0    476\n",
              "Name: education_PhD, dtype: int64"
            ]
          },
          "metadata": {},
          "execution_count": 19
        }
      ]
    },
    {
      "cell_type": "markdown",
      "source": [
        "The education_PhD column only has the number 5.0, which appears 476 times. The remainder is null. This is a great indication that null means that the person does not have that particular variable. In the case above, she does not have a PHD\n",
        "\n",
        "So these columns can become a bool - 1 if it did and 0 if it didn't (null)"
      ],
      "metadata": {
        "id": "Y0qK9QFxcR01"
      }
    },
    {
      "cell_type": "code",
      "source": [
        "# selecting columns with null\n",
        "null_columns = [\"marital_Divorced\"\n",
        ", \"marital_Married\"\n",
        ", \"marital_Single\"\n",
        ", \"marital_Together\"\n",
        ", \"marital_Widow\"\n",
        ", \"education_2n Cycle\"\n",
        ", \"education_Basic\"\n",
        ", \"education_Graduation\"\n",
        ", \"education_Master\"\n",
        ", \"education_PhD\"]"
      ],
      "metadata": {
        "id": "wrjckRLlcEXz"
      },
      "execution_count": null,
      "outputs": []
    },
    {
      "cell_type": "code",
      "source": [
        "# replacing with bool\n",
        "for item in null_columns:\n",
        "  df[\"booleano\" + str(item)] = np.where(df[item].isnull(), 0, 1)  # if isnull replacing per 0, else replacing per 1\n"
      ],
      "metadata": {
        "id": "5VIVZqhcczn7"
      },
      "execution_count": null,
      "outputs": []
    },
    {
      "cell_type": "code",
      "source": [
        "df # look at the last columns"
      ],
      "metadata": {
        "colab": {
          "base_uri": "https://localhost:8080/",
          "height": 505
        },
        "id": "ML3L2WWfdh4z",
        "outputId": "fdf4bfb4-7300-4b89-f3e3-74b6b4086999"
      },
      "execution_count": null,
      "outputs": [
        {
          "output_type": "execute_result",
          "data": {
            "text/plain": [
              "      Unnamed: 0   Income  Kidhome  Teenhome  Recency  MntWines  MntFruits  \\\n",
              "0              0  58138.0        0         0       58       635         88   \n",
              "1              1  46344.0        1         1       38        11          1   \n",
              "2              2  71613.0        0         0       26       426         49   \n",
              "3              3  26646.0        1         0       26        11          4   \n",
              "4              4  58293.0        1         0       94       173         43   \n",
              "...          ...      ...      ...       ...      ...       ...        ...   \n",
              "2200        2200  61223.0        0         1       46       709         43   \n",
              "2201        2201  64014.0        2         1       56       406          0   \n",
              "2202        2202  56981.0        0         0       91       908         48   \n",
              "2203        2203  69245.0        0         1        8       428         30   \n",
              "2204        2204  52869.0        1         1       40        84          3   \n",
              "\n",
              "      MntMeatProducts  MntFishProducts  MntSweetProducts  ...  \\\n",
              "0                 546              172                88  ...   \n",
              "1                   6                2                 1  ...   \n",
              "2                 127              111                21  ...   \n",
              "3                  20               10                 3  ...   \n",
              "4                 118               46                27  ...   \n",
              "...               ...              ...               ...  ...   \n",
              "2200              182               42               118  ...   \n",
              "2201               30                0                 0  ...   \n",
              "2202              217               32                12  ...   \n",
              "2203              214               80                30  ...   \n",
              "2204               61                2                 1  ...   \n",
              "\n",
              "      booleanomarital_Divorced  booleanomarital_Married  \\\n",
              "0                            0                        0   \n",
              "1                            0                        0   \n",
              "2                            0                        0   \n",
              "3                            0                        0   \n",
              "4                            0                        1   \n",
              "...                        ...                      ...   \n",
              "2200                         0                        1   \n",
              "2201                         0                        0   \n",
              "2202                         1                        0   \n",
              "2203                         0                        0   \n",
              "2204                         0                        1   \n",
              "\n",
              "      booleanomarital_Single  booleanomarital_Together  booleanomarital_Widow  \\\n",
              "0                          1                         0                      0   \n",
              "1                          1                         0                      0   \n",
              "2                          0                         1                      0   \n",
              "3                          0                         1                      0   \n",
              "4                          0                         0                      0   \n",
              "...                      ...                       ...                    ...   \n",
              "2200                       0                         0                      0   \n",
              "2201                       0                         1                      0   \n",
              "2202                       0                         0                      0   \n",
              "2203                       0                         1                      0   \n",
              "2204                       0                         0                      0   \n",
              "\n",
              "      booleanoeducation_2n Cycle  booleanoeducation_Basic  \\\n",
              "0                              0                        0   \n",
              "1                              0                        0   \n",
              "2                              0                        0   \n",
              "3                              0                        0   \n",
              "4                              0                        0   \n",
              "...                          ...                      ...   \n",
              "2200                           0                        0   \n",
              "2201                           0                        0   \n",
              "2202                           0                        0   \n",
              "2203                           0                        0   \n",
              "2204                           0                        0   \n",
              "\n",
              "      booleanoeducation_Graduation  booleanoeducation_Master  \\\n",
              "0                                1                         0   \n",
              "1                                1                         0   \n",
              "2                                1                         0   \n",
              "3                                1                         0   \n",
              "4                                0                         0   \n",
              "...                            ...                       ...   \n",
              "2200                             1                         0   \n",
              "2201                             0                         0   \n",
              "2202                             1                         0   \n",
              "2203                             0                         1   \n",
              "2204                             0                         0   \n",
              "\n",
              "      booleanoeducation_PhD  \n",
              "0                         0  \n",
              "1                         0  \n",
              "2                         0  \n",
              "3                         0  \n",
              "4                         1  \n",
              "...                     ...  \n",
              "2200                      0  \n",
              "2201                      1  \n",
              "2202                      0  \n",
              "2203                      0  \n",
              "2204                      1  \n",
              "\n",
              "[2205 rows x 54 columns]"
            ],
            "text/html": [
              "\n",
              "  <div id=\"df-be0e9dde-9501-498c-8d02-6ece11f681bf\">\n",
              "    <div class=\"colab-df-container\">\n",
              "      <div>\n",
              "<style scoped>\n",
              "    .dataframe tbody tr th:only-of-type {\n",
              "        vertical-align: middle;\n",
              "    }\n",
              "\n",
              "    .dataframe tbody tr th {\n",
              "        vertical-align: top;\n",
              "    }\n",
              "\n",
              "    .dataframe thead th {\n",
              "        text-align: right;\n",
              "    }\n",
              "</style>\n",
              "<table border=\"1\" class=\"dataframe\">\n",
              "  <thead>\n",
              "    <tr style=\"text-align: right;\">\n",
              "      <th></th>\n",
              "      <th>Unnamed: 0</th>\n",
              "      <th>Income</th>\n",
              "      <th>Kidhome</th>\n",
              "      <th>Teenhome</th>\n",
              "      <th>Recency</th>\n",
              "      <th>MntWines</th>\n",
              "      <th>MntFruits</th>\n",
              "      <th>MntMeatProducts</th>\n",
              "      <th>MntFishProducts</th>\n",
              "      <th>MntSweetProducts</th>\n",
              "      <th>...</th>\n",
              "      <th>booleanomarital_Divorced</th>\n",
              "      <th>booleanomarital_Married</th>\n",
              "      <th>booleanomarital_Single</th>\n",
              "      <th>booleanomarital_Together</th>\n",
              "      <th>booleanomarital_Widow</th>\n",
              "      <th>booleanoeducation_2n Cycle</th>\n",
              "      <th>booleanoeducation_Basic</th>\n",
              "      <th>booleanoeducation_Graduation</th>\n",
              "      <th>booleanoeducation_Master</th>\n",
              "      <th>booleanoeducation_PhD</th>\n",
              "    </tr>\n",
              "  </thead>\n",
              "  <tbody>\n",
              "    <tr>\n",
              "      <th>0</th>\n",
              "      <td>0</td>\n",
              "      <td>58138.0</td>\n",
              "      <td>0</td>\n",
              "      <td>0</td>\n",
              "      <td>58</td>\n",
              "      <td>635</td>\n",
              "      <td>88</td>\n",
              "      <td>546</td>\n",
              "      <td>172</td>\n",
              "      <td>88</td>\n",
              "      <td>...</td>\n",
              "      <td>0</td>\n",
              "      <td>0</td>\n",
              "      <td>1</td>\n",
              "      <td>0</td>\n",
              "      <td>0</td>\n",
              "      <td>0</td>\n",
              "      <td>0</td>\n",
              "      <td>1</td>\n",
              "      <td>0</td>\n",
              "      <td>0</td>\n",
              "    </tr>\n",
              "    <tr>\n",
              "      <th>1</th>\n",
              "      <td>1</td>\n",
              "      <td>46344.0</td>\n",
              "      <td>1</td>\n",
              "      <td>1</td>\n",
              "      <td>38</td>\n",
              "      <td>11</td>\n",
              "      <td>1</td>\n",
              "      <td>6</td>\n",
              "      <td>2</td>\n",
              "      <td>1</td>\n",
              "      <td>...</td>\n",
              "      <td>0</td>\n",
              "      <td>0</td>\n",
              "      <td>1</td>\n",
              "      <td>0</td>\n",
              "      <td>0</td>\n",
              "      <td>0</td>\n",
              "      <td>0</td>\n",
              "      <td>1</td>\n",
              "      <td>0</td>\n",
              "      <td>0</td>\n",
              "    </tr>\n",
              "    <tr>\n",
              "      <th>2</th>\n",
              "      <td>2</td>\n",
              "      <td>71613.0</td>\n",
              "      <td>0</td>\n",
              "      <td>0</td>\n",
              "      <td>26</td>\n",
              "      <td>426</td>\n",
              "      <td>49</td>\n",
              "      <td>127</td>\n",
              "      <td>111</td>\n",
              "      <td>21</td>\n",
              "      <td>...</td>\n",
              "      <td>0</td>\n",
              "      <td>0</td>\n",
              "      <td>0</td>\n",
              "      <td>1</td>\n",
              "      <td>0</td>\n",
              "      <td>0</td>\n",
              "      <td>0</td>\n",
              "      <td>1</td>\n",
              "      <td>0</td>\n",
              "      <td>0</td>\n",
              "    </tr>\n",
              "    <tr>\n",
              "      <th>3</th>\n",
              "      <td>3</td>\n",
              "      <td>26646.0</td>\n",
              "      <td>1</td>\n",
              "      <td>0</td>\n",
              "      <td>26</td>\n",
              "      <td>11</td>\n",
              "      <td>4</td>\n",
              "      <td>20</td>\n",
              "      <td>10</td>\n",
              "      <td>3</td>\n",
              "      <td>...</td>\n",
              "      <td>0</td>\n",
              "      <td>0</td>\n",
              "      <td>0</td>\n",
              "      <td>1</td>\n",
              "      <td>0</td>\n",
              "      <td>0</td>\n",
              "      <td>0</td>\n",
              "      <td>1</td>\n",
              "      <td>0</td>\n",
              "      <td>0</td>\n",
              "    </tr>\n",
              "    <tr>\n",
              "      <th>4</th>\n",
              "      <td>4</td>\n",
              "      <td>58293.0</td>\n",
              "      <td>1</td>\n",
              "      <td>0</td>\n",
              "      <td>94</td>\n",
              "      <td>173</td>\n",
              "      <td>43</td>\n",
              "      <td>118</td>\n",
              "      <td>46</td>\n",
              "      <td>27</td>\n",
              "      <td>...</td>\n",
              "      <td>0</td>\n",
              "      <td>1</td>\n",
              "      <td>0</td>\n",
              "      <td>0</td>\n",
              "      <td>0</td>\n",
              "      <td>0</td>\n",
              "      <td>0</td>\n",
              "      <td>0</td>\n",
              "      <td>0</td>\n",
              "      <td>1</td>\n",
              "    </tr>\n",
              "    <tr>\n",
              "      <th>...</th>\n",
              "      <td>...</td>\n",
              "      <td>...</td>\n",
              "      <td>...</td>\n",
              "      <td>...</td>\n",
              "      <td>...</td>\n",
              "      <td>...</td>\n",
              "      <td>...</td>\n",
              "      <td>...</td>\n",
              "      <td>...</td>\n",
              "      <td>...</td>\n",
              "      <td>...</td>\n",
              "      <td>...</td>\n",
              "      <td>...</td>\n",
              "      <td>...</td>\n",
              "      <td>...</td>\n",
              "      <td>...</td>\n",
              "      <td>...</td>\n",
              "      <td>...</td>\n",
              "      <td>...</td>\n",
              "      <td>...</td>\n",
              "      <td>...</td>\n",
              "    </tr>\n",
              "    <tr>\n",
              "      <th>2200</th>\n",
              "      <td>2200</td>\n",
              "      <td>61223.0</td>\n",
              "      <td>0</td>\n",
              "      <td>1</td>\n",
              "      <td>46</td>\n",
              "      <td>709</td>\n",
              "      <td>43</td>\n",
              "      <td>182</td>\n",
              "      <td>42</td>\n",
              "      <td>118</td>\n",
              "      <td>...</td>\n",
              "      <td>0</td>\n",
              "      <td>1</td>\n",
              "      <td>0</td>\n",
              "      <td>0</td>\n",
              "      <td>0</td>\n",
              "      <td>0</td>\n",
              "      <td>0</td>\n",
              "      <td>1</td>\n",
              "      <td>0</td>\n",
              "      <td>0</td>\n",
              "    </tr>\n",
              "    <tr>\n",
              "      <th>2201</th>\n",
              "      <td>2201</td>\n",
              "      <td>64014.0</td>\n",
              "      <td>2</td>\n",
              "      <td>1</td>\n",
              "      <td>56</td>\n",
              "      <td>406</td>\n",
              "      <td>0</td>\n",
              "      <td>30</td>\n",
              "      <td>0</td>\n",
              "      <td>0</td>\n",
              "      <td>...</td>\n",
              "      <td>0</td>\n",
              "      <td>0</td>\n",
              "      <td>0</td>\n",
              "      <td>1</td>\n",
              "      <td>0</td>\n",
              "      <td>0</td>\n",
              "      <td>0</td>\n",
              "      <td>0</td>\n",
              "      <td>0</td>\n",
              "      <td>1</td>\n",
              "    </tr>\n",
              "    <tr>\n",
              "      <th>2202</th>\n",
              "      <td>2202</td>\n",
              "      <td>56981.0</td>\n",
              "      <td>0</td>\n",
              "      <td>0</td>\n",
              "      <td>91</td>\n",
              "      <td>908</td>\n",
              "      <td>48</td>\n",
              "      <td>217</td>\n",
              "      <td>32</td>\n",
              "      <td>12</td>\n",
              "      <td>...</td>\n",
              "      <td>1</td>\n",
              "      <td>0</td>\n",
              "      <td>0</td>\n",
              "      <td>0</td>\n",
              "      <td>0</td>\n",
              "      <td>0</td>\n",
              "      <td>0</td>\n",
              "      <td>1</td>\n",
              "      <td>0</td>\n",
              "      <td>0</td>\n",
              "    </tr>\n",
              "    <tr>\n",
              "      <th>2203</th>\n",
              "      <td>2203</td>\n",
              "      <td>69245.0</td>\n",
              "      <td>0</td>\n",
              "      <td>1</td>\n",
              "      <td>8</td>\n",
              "      <td>428</td>\n",
              "      <td>30</td>\n",
              "      <td>214</td>\n",
              "      <td>80</td>\n",
              "      <td>30</td>\n",
              "      <td>...</td>\n",
              "      <td>0</td>\n",
              "      <td>0</td>\n",
              "      <td>0</td>\n",
              "      <td>1</td>\n",
              "      <td>0</td>\n",
              "      <td>0</td>\n",
              "      <td>0</td>\n",
              "      <td>0</td>\n",
              "      <td>1</td>\n",
              "      <td>0</td>\n",
              "    </tr>\n",
              "    <tr>\n",
              "      <th>2204</th>\n",
              "      <td>2204</td>\n",
              "      <td>52869.0</td>\n",
              "      <td>1</td>\n",
              "      <td>1</td>\n",
              "      <td>40</td>\n",
              "      <td>84</td>\n",
              "      <td>3</td>\n",
              "      <td>61</td>\n",
              "      <td>2</td>\n",
              "      <td>1</td>\n",
              "      <td>...</td>\n",
              "      <td>0</td>\n",
              "      <td>1</td>\n",
              "      <td>0</td>\n",
              "      <td>0</td>\n",
              "      <td>0</td>\n",
              "      <td>0</td>\n",
              "      <td>0</td>\n",
              "      <td>0</td>\n",
              "      <td>0</td>\n",
              "      <td>1</td>\n",
              "    </tr>\n",
              "  </tbody>\n",
              "</table>\n",
              "<p>2205 rows × 54 columns</p>\n",
              "</div>\n",
              "      <button class=\"colab-df-convert\" onclick=\"convertToInteractive('df-be0e9dde-9501-498c-8d02-6ece11f681bf')\"\n",
              "              title=\"Convert this dataframe to an interactive table.\"\n",
              "              style=\"display:none;\">\n",
              "        \n",
              "  <svg xmlns=\"http://www.w3.org/2000/svg\" height=\"24px\"viewBox=\"0 0 24 24\"\n",
              "       width=\"24px\">\n",
              "    <path d=\"M0 0h24v24H0V0z\" fill=\"none\"/>\n",
              "    <path d=\"M18.56 5.44l.94 2.06.94-2.06 2.06-.94-2.06-.94-.94-2.06-.94 2.06-2.06.94zm-11 1L8.5 8.5l.94-2.06 2.06-.94-2.06-.94L8.5 2.5l-.94 2.06-2.06.94zm10 10l.94 2.06.94-2.06 2.06-.94-2.06-.94-.94-2.06-.94 2.06-2.06.94z\"/><path d=\"M17.41 7.96l-1.37-1.37c-.4-.4-.92-.59-1.43-.59-.52 0-1.04.2-1.43.59L10.3 9.45l-7.72 7.72c-.78.78-.78 2.05 0 2.83L4 21.41c.39.39.9.59 1.41.59.51 0 1.02-.2 1.41-.59l7.78-7.78 2.81-2.81c.8-.78.8-2.07 0-2.86zM5.41 20L4 18.59l7.72-7.72 1.47 1.35L5.41 20z\"/>\n",
              "  </svg>\n",
              "      </button>\n",
              "      \n",
              "  <style>\n",
              "    .colab-df-container {\n",
              "      display:flex;\n",
              "      flex-wrap:wrap;\n",
              "      gap: 12px;\n",
              "    }\n",
              "\n",
              "    .colab-df-convert {\n",
              "      background-color: #E8F0FE;\n",
              "      border: none;\n",
              "      border-radius: 50%;\n",
              "      cursor: pointer;\n",
              "      display: none;\n",
              "      fill: #1967D2;\n",
              "      height: 32px;\n",
              "      padding: 0 0 0 0;\n",
              "      width: 32px;\n",
              "    }\n",
              "\n",
              "    .colab-df-convert:hover {\n",
              "      background-color: #E2EBFA;\n",
              "      box-shadow: 0px 1px 2px rgba(60, 64, 67, 0.3), 0px 1px 3px 1px rgba(60, 64, 67, 0.15);\n",
              "      fill: #174EA6;\n",
              "    }\n",
              "\n",
              "    [theme=dark] .colab-df-convert {\n",
              "      background-color: #3B4455;\n",
              "      fill: #D2E3FC;\n",
              "    }\n",
              "\n",
              "    [theme=dark] .colab-df-convert:hover {\n",
              "      background-color: #434B5C;\n",
              "      box-shadow: 0px 1px 3px 1px rgba(0, 0, 0, 0.15);\n",
              "      filter: drop-shadow(0px 1px 2px rgba(0, 0, 0, 0.3));\n",
              "      fill: #FFFFFF;\n",
              "    }\n",
              "  </style>\n",
              "\n",
              "      <script>\n",
              "        const buttonEl =\n",
              "          document.querySelector('#df-be0e9dde-9501-498c-8d02-6ece11f681bf button.colab-df-convert');\n",
              "        buttonEl.style.display =\n",
              "          google.colab.kernel.accessAllowed ? 'block' : 'none';\n",
              "\n",
              "        async function convertToInteractive(key) {\n",
              "          const element = document.querySelector('#df-be0e9dde-9501-498c-8d02-6ece11f681bf');\n",
              "          const dataTable =\n",
              "            await google.colab.kernel.invokeFunction('convertToInteractive',\n",
              "                                                     [key], {});\n",
              "          if (!dataTable) return;\n",
              "\n",
              "          const docLinkHtml = 'Like what you see? Visit the ' +\n",
              "            '<a target=\"_blank\" href=https://colab.research.google.com/notebooks/data_table.ipynb>data table notebook</a>'\n",
              "            + ' to learn more about interactive tables.';\n",
              "          element.innerHTML = '';\n",
              "          dataTable['output_type'] = 'display_data';\n",
              "          await google.colab.output.renderOutput(dataTable, element);\n",
              "          const docLink = document.createElement('div');\n",
              "          docLink.innerHTML = docLinkHtml;\n",
              "          element.appendChild(docLink);\n",
              "        }\n",
              "      </script>\n",
              "    </div>\n",
              "  </div>\n",
              "  "
            ]
          },
          "metadata": {},
          "execution_count": 24
        }
      ]
    },
    {
      "cell_type": "code",
      "source": [
        "# here we make a descibre to see mean, std, min,25%, 50% median, 75%, max 100%\n",
        "df[[\"kids\", \"Income\", \"expenses\"]].describe()"
      ],
      "metadata": {
        "colab": {
          "base_uri": "https://localhost:8080/",
          "height": 300
        },
        "id": "wWREw5Drdubq",
        "outputId": "f207c808-137c-410c-f8c5-705e949008f8"
      },
      "execution_count": null,
      "outputs": [
        {
          "output_type": "execute_result",
          "data": {
            "text/plain": [
              "              kids         Income     expenses\n",
              "count  2205.000000    2205.000000  2205.000000\n",
              "mean      0.948753   51622.094785   562.764626\n",
              "std       0.749231   20713.063826   575.936911\n",
              "min       0.000000    1730.000000     4.000000\n",
              "25%       0.000000   35196.000000    56.000000\n",
              "50%       1.000000   51287.000000   343.000000\n",
              "75%       1.000000   68281.000000   964.000000\n",
              "max       3.000000  113734.000000  2491.000000"
            ],
            "text/html": [
              "\n",
              "  <div id=\"df-c1f8605c-0d93-4548-b0c3-c957e105bfec\">\n",
              "    <div class=\"colab-df-container\">\n",
              "      <div>\n",
              "<style scoped>\n",
              "    .dataframe tbody tr th:only-of-type {\n",
              "        vertical-align: middle;\n",
              "    }\n",
              "\n",
              "    .dataframe tbody tr th {\n",
              "        vertical-align: top;\n",
              "    }\n",
              "\n",
              "    .dataframe thead th {\n",
              "        text-align: right;\n",
              "    }\n",
              "</style>\n",
              "<table border=\"1\" class=\"dataframe\">\n",
              "  <thead>\n",
              "    <tr style=\"text-align: right;\">\n",
              "      <th></th>\n",
              "      <th>kids</th>\n",
              "      <th>Income</th>\n",
              "      <th>expenses</th>\n",
              "    </tr>\n",
              "  </thead>\n",
              "  <tbody>\n",
              "    <tr>\n",
              "      <th>count</th>\n",
              "      <td>2205.000000</td>\n",
              "      <td>2205.000000</td>\n",
              "      <td>2205.000000</td>\n",
              "    </tr>\n",
              "    <tr>\n",
              "      <th>mean</th>\n",
              "      <td>0.948753</td>\n",
              "      <td>51622.094785</td>\n",
              "      <td>562.764626</td>\n",
              "    </tr>\n",
              "    <tr>\n",
              "      <th>std</th>\n",
              "      <td>0.749231</td>\n",
              "      <td>20713.063826</td>\n",
              "      <td>575.936911</td>\n",
              "    </tr>\n",
              "    <tr>\n",
              "      <th>min</th>\n",
              "      <td>0.000000</td>\n",
              "      <td>1730.000000</td>\n",
              "      <td>4.000000</td>\n",
              "    </tr>\n",
              "    <tr>\n",
              "      <th>25%</th>\n",
              "      <td>0.000000</td>\n",
              "      <td>35196.000000</td>\n",
              "      <td>56.000000</td>\n",
              "    </tr>\n",
              "    <tr>\n",
              "      <th>50%</th>\n",
              "      <td>1.000000</td>\n",
              "      <td>51287.000000</td>\n",
              "      <td>343.000000</td>\n",
              "    </tr>\n",
              "    <tr>\n",
              "      <th>75%</th>\n",
              "      <td>1.000000</td>\n",
              "      <td>68281.000000</td>\n",
              "      <td>964.000000</td>\n",
              "    </tr>\n",
              "    <tr>\n",
              "      <th>max</th>\n",
              "      <td>3.000000</td>\n",
              "      <td>113734.000000</td>\n",
              "      <td>2491.000000</td>\n",
              "    </tr>\n",
              "  </tbody>\n",
              "</table>\n",
              "</div>\n",
              "      <button class=\"colab-df-convert\" onclick=\"convertToInteractive('df-c1f8605c-0d93-4548-b0c3-c957e105bfec')\"\n",
              "              title=\"Convert this dataframe to an interactive table.\"\n",
              "              style=\"display:none;\">\n",
              "        \n",
              "  <svg xmlns=\"http://www.w3.org/2000/svg\" height=\"24px\"viewBox=\"0 0 24 24\"\n",
              "       width=\"24px\">\n",
              "    <path d=\"M0 0h24v24H0V0z\" fill=\"none\"/>\n",
              "    <path d=\"M18.56 5.44l.94 2.06.94-2.06 2.06-.94-2.06-.94-.94-2.06-.94 2.06-2.06.94zm-11 1L8.5 8.5l.94-2.06 2.06-.94-2.06-.94L8.5 2.5l-.94 2.06-2.06.94zm10 10l.94 2.06.94-2.06 2.06-.94-2.06-.94-.94-2.06-.94 2.06-2.06.94z\"/><path d=\"M17.41 7.96l-1.37-1.37c-.4-.4-.92-.59-1.43-.59-.52 0-1.04.2-1.43.59L10.3 9.45l-7.72 7.72c-.78.78-.78 2.05 0 2.83L4 21.41c.39.39.9.59 1.41.59.51 0 1.02-.2 1.41-.59l7.78-7.78 2.81-2.81c.8-.78.8-2.07 0-2.86zM5.41 20L4 18.59l7.72-7.72 1.47 1.35L5.41 20z\"/>\n",
              "  </svg>\n",
              "      </button>\n",
              "      \n",
              "  <style>\n",
              "    .colab-df-container {\n",
              "      display:flex;\n",
              "      flex-wrap:wrap;\n",
              "      gap: 12px;\n",
              "    }\n",
              "\n",
              "    .colab-df-convert {\n",
              "      background-color: #E8F0FE;\n",
              "      border: none;\n",
              "      border-radius: 50%;\n",
              "      cursor: pointer;\n",
              "      display: none;\n",
              "      fill: #1967D2;\n",
              "      height: 32px;\n",
              "      padding: 0 0 0 0;\n",
              "      width: 32px;\n",
              "    }\n",
              "\n",
              "    .colab-df-convert:hover {\n",
              "      background-color: #E2EBFA;\n",
              "      box-shadow: 0px 1px 2px rgba(60, 64, 67, 0.3), 0px 1px 3px 1px rgba(60, 64, 67, 0.15);\n",
              "      fill: #174EA6;\n",
              "    }\n",
              "\n",
              "    [theme=dark] .colab-df-convert {\n",
              "      background-color: #3B4455;\n",
              "      fill: #D2E3FC;\n",
              "    }\n",
              "\n",
              "    [theme=dark] .colab-df-convert:hover {\n",
              "      background-color: #434B5C;\n",
              "      box-shadow: 0px 1px 3px 1px rgba(0, 0, 0, 0.15);\n",
              "      filter: drop-shadow(0px 1px 2px rgba(0, 0, 0, 0.3));\n",
              "      fill: #FFFFFF;\n",
              "    }\n",
              "  </style>\n",
              "\n",
              "      <script>\n",
              "        const buttonEl =\n",
              "          document.querySelector('#df-c1f8605c-0d93-4548-b0c3-c957e105bfec button.colab-df-convert');\n",
              "        buttonEl.style.display =\n",
              "          google.colab.kernel.accessAllowed ? 'block' : 'none';\n",
              "\n",
              "        async function convertToInteractive(key) {\n",
              "          const element = document.querySelector('#df-c1f8605c-0d93-4548-b0c3-c957e105bfec');\n",
              "          const dataTable =\n",
              "            await google.colab.kernel.invokeFunction('convertToInteractive',\n",
              "                                                     [key], {});\n",
              "          if (!dataTable) return;\n",
              "\n",
              "          const docLinkHtml = 'Like what you see? Visit the ' +\n",
              "            '<a target=\"_blank\" href=https://colab.research.google.com/notebooks/data_table.ipynb>data table notebook</a>'\n",
              "            + ' to learn more about interactive tables.';\n",
              "          element.innerHTML = '';\n",
              "          dataTable['output_type'] = 'display_data';\n",
              "          await google.colab.output.renderOutput(dataTable, element);\n",
              "          const docLink = document.createElement('div');\n",
              "          docLink.innerHTML = docLinkHtml;\n",
              "          element.appendChild(docLink);\n",
              "        }\n",
              "      </script>\n",
              "    </div>\n",
              "  </div>\n",
              "  "
            ]
          },
          "metadata": {},
          "execution_count": 33
        }
      ]
    },
    {
      "cell_type": "markdown",
      "source": [
        "de acordo com a tabela, o valor máximo para salario é de $113.734 dólares / ano"
      ],
      "metadata": {
        "id": "UAKyVQXKfeAJ"
      }
    },
    {
      "cell_type": "code",
      "source": [
        "df[\"Income\"].hist()\n",
        "plt.title(\"Income\")\n",
        "plt.xlabel(\"Salary\")\n"
      ],
      "metadata": {
        "colab": {
          "base_uri": "https://localhost:8080/",
          "height": 489
        },
        "id": "9w_yG0Ved9wy",
        "outputId": "0264fed1-3215-4973-aece-20a3a2599ccb"
      },
      "execution_count": null,
      "outputs": [
        {
          "output_type": "execute_result",
          "data": {
            "text/plain": [
              "Text(0.5, 0, 'Salary')"
            ]
          },
          "metadata": {},
          "execution_count": 38
        },
        {
          "output_type": "display_data",
          "data": {
            "text/plain": [
              "<Figure size 640x480 with 1 Axes>"
            ],
            "image/png": "[encoded data removed]"
          },
          "metadata": {}
        }
      ]
    },
    {
      "cell_type": "code",
      "source": [
        "# make a boxplot\n",
        "sns.boxplot(df[\"Income\"])"
      ],
      "metadata": {
        "colab": {
          "base_uri": "https://localhost:8080/",
          "height": 447
        },
        "id": "vinyC6v3f-xT",
        "outputId": "428d72f5-452d-4d1c-c53d-9258ce0db67f"
      },
      "execution_count": null,
      "outputs": [
        {
          "output_type": "execute_result",
          "data": {
            "text/plain": [
              "<Axes: >"
            ]
          },
          "metadata": {},
          "execution_count": 39
        },
        {
          "output_type": "display_data",
          "data": {
            "text/plain": [
              "<Figure size 640x480 with 1 Axes>"
            ],
            "image/png": "[encoded data removed]"
          },
          "metadata": {}
        }
      ]
    },
    {
      "cell_type": "code",
      "source": [
        "df[\"Income\"].std()/df[\"Income\"].mean()"
      ],
      "metadata": {
        "colab": {
          "base_uri": "https://localhost:8080/"
        },
        "id": "1clia03jiByi",
        "outputId": "30d6b458-aefd-4d56-8a93-51f77bd2418a"
      },
      "execution_count": null,
      "outputs": [
        {
          "output_type": "execute_result",
          "data": {
            "text/plain": [
              "0.4012441554786958"
            ]
          },
          "metadata": {},
          "execution_count": 40
        }
      ]
    },
    {
      "cell_type": "code",
      "source": [
        "df[\"Income\"].skew()"
      ],
      "metadata": {
        "colab": {
          "base_uri": "https://localhost:8080/"
        },
        "id": "iPjEjoxjivXS",
        "outputId": "ff7a5ab5-0e05-4c33-9988-9e1d4e66dcf5"
      },
      "execution_count": null,
      "outputs": [
        {
          "output_type": "execute_result",
          "data": {
            "text/plain": [
              "0.013164263414417078"
            ]
          },
          "metadata": {},
          "execution_count": 41
        }
      ]
    },
    {
      "cell_type": "markdown",
      "source": [
        "Os salarios estão bem proximos e bem distribuidos na nossa base. temos alguns salarios altos e outros salario mais baixos. Não temos outliners visualizando o boxplot. com a Skew vemos que a curva se aproxima de uma normal.\n"
      ],
      "metadata": {
        "id": "i9U5KxKfj6fd"
      }
    },
    {
      "cell_type": "code",
      "source": [
        "# gráfico de barras por educação\n",
        "sns.countplot(x=df[\"education_level\"])"
      ],
      "metadata": {
        "colab": {
          "base_uri": "https://localhost:8080/",
          "height": 467
        },
        "id": "lGQNXpVNiy-w",
        "outputId": "ad37a3c3-5635-462c-d918-31a18a5a179c"
      },
      "execution_count": null,
      "outputs": [
        {
          "output_type": "execute_result",
          "data": {
            "text/plain": [
              "<Axes: xlabel='education_level', ylabel='count'>"
            ]
          },
          "metadata": {},
          "execution_count": 43
        },
        {
          "output_type": "display_data",
          "data": {
            "text/plain": [
              "<Figure size 640x480 with 1 Axes>"
            ],
            "image/png": "[encoded data removed]"
          },
          "metadata": {}
        }
      ]
    },
    {
      "cell_type": "markdown",
      "source": [
        "A maior parte dos nossos clientes tem graduação completa. poucos clientes concluíram somente o nível básico. No geral, podemos dizer que nossos clientes tem nivel superiores de educação"
      ],
      "metadata": {
        "id": "JUWVEXOwpbTf"
      }
    },
    {
      "cell_type": "code",
      "source": [
        "#gráfico de barras por estados civil\n",
        "sns.countplot(x=df[\"marital_status\"])"
      ],
      "metadata": {
        "colab": {
          "base_uri": "https://localhost:8080/",
          "height": 467
        },
        "id": "MJccwIUpnZJu",
        "outputId": "cdb202e9-dbe2-463a-e681-13f8c5472125"
      },
      "execution_count": null,
      "outputs": [
        {
          "output_type": "execute_result",
          "data": {
            "text/plain": [
              "<Axes: xlabel='marital_status', ylabel='count'>"
            ]
          },
          "metadata": {},
          "execution_count": 48
        },
        {
          "output_type": "display_data",
          "data": {
            "text/plain": [
              "<Figure size 640x480 with 1 Axes>"
            ],
            "image/png": "[encoded data removed]"
          },
          "metadata": {}
        }
      ]
    },
    {
      "cell_type": "markdown",
      "source": [
        "A maior parte dos clientes são casados ou são \"together\" (moram juntos). poucos são viúvos"
      ],
      "metadata": {
        "id": "j47vdOxxqOLM"
      }
    },
    {
      "cell_type": "code",
      "source": [
        "# boxplot de quem tem filhos\n",
        "sns.boxplot(x=\"marital_status\", y=\"kids\", data=df)"
      ],
      "metadata": {
        "colab": {
          "base_uri": "https://localhost:8080/",
          "height": 467
        },
        "id": "Sk-tm4zUlGUp",
        "outputId": "231f1ca2-a824-44fd-f73b-7ad00cc29f51"
      },
      "execution_count": null,
      "outputs": [
        {
          "output_type": "execute_result",
          "data": {
            "text/plain": [
              "<Axes: xlabel='marital_status', ylabel='kids'>"
            ]
          },
          "metadata": {},
          "execution_count": 47
        },
        {
          "output_type": "display_data",
          "data": {
            "text/plain": [
              "<Figure size 640x480 with 1 Axes>"
            ],
            "image/png": "[encoded data removed]"
          },
          "metadata": {}
        }
      ]
    },
    {
      "cell_type": "code",
      "source": [
        "df.groupby([\"marital_status\"])[\"kids\"].describe()"
      ],
      "metadata": {
        "colab": {
          "base_uri": "https://localhost:8080/",
          "height": 237
        },
        "id": "pzxTgvtRmma5",
        "outputId": "8a3e250e-44d1-4662-97d4-d92de93444b4"
      },
      "execution_count": null,
      "outputs": [
        {
          "output_type": "execute_result",
          "data": {
            "text/plain": [
              "                count      mean       std  min  25%  50%  75%  max\n",
              "marital_status                                                    \n",
              "Divorced        230.0  1.008696  0.741716  0.0  1.0  1.0  1.0  3.0\n",
              "Married         854.0  0.967213  0.732019  0.0  0.0  1.0  1.0  3.0\n",
              "Single          477.0  0.859539  0.777289  0.0  0.0  1.0  1.0  3.0\n",
              "Together        568.0  0.980634  0.749823  0.0  0.0  1.0  1.0  3.0\n",
              "Widow            76.0  0.881579  0.747745  0.0  0.0  1.0  1.0  2.0"
            ],
            "text/html": [
              "\n",
              "  <div id=\"df-85aebca6-1e07-4d47-bde7-431e5d46559e\">\n",
              "    <div class=\"colab-df-container\">\n",
              "      <div>\n",
              "<style scoped>\n",
              "    .dataframe tbody tr th:only-of-type {\n",
              "        vertical-align: middle;\n",
              "    }\n",
              "\n",
              "    .dataframe tbody tr th {\n",
              "        vertical-align: top;\n",
              "    }\n",
              "\n",
              "    .dataframe thead th {\n",
              "        text-align: right;\n",
              "    }\n",
              "</style>\n",
              "<table border=\"1\" class=\"dataframe\">\n",
              "  <thead>\n",
              "    <tr style=\"text-align: right;\">\n",
              "      <th></th>\n",
              "      <th>count</th>\n",
              "      <th>mean</th>\n",
              "      <th>std</th>\n",
              "      <th>min</th>\n",
              "      <th>25%</th>\n",
              "      <th>50%</th>\n",
              "      <th>75%</th>\n",
              "      <th>max</th>\n",
              "    </tr>\n",
              "    <tr>\n",
              "      <th>marital_status</th>\n",
              "      <th></th>\n",
              "      <th></th>\n",
              "      <th></th>\n",
              "      <th></th>\n",
              "      <th></th>\n",
              "      <th></th>\n",
              "      <th></th>\n",
              "      <th></th>\n",
              "    </tr>\n",
              "  </thead>\n",
              "  <tbody>\n",
              "    <tr>\n",
              "      <th>Divorced</th>\n",
              "      <td>230.0</td>\n",
              "      <td>1.008696</td>\n",
              "      <td>0.741716</td>\n",
              "      <td>0.0</td>\n",
              "      <td>1.0</td>\n",
              "      <td>1.0</td>\n",
              "      <td>1.0</td>\n",
              "      <td>3.0</td>\n",
              "    </tr>\n",
              "    <tr>\n",
              "      <th>Married</th>\n",
              "      <td>854.0</td>\n",
              "      <td>0.967213</td>\n",
              "      <td>0.732019</td>\n",
              "      <td>0.0</td>\n",
              "      <td>0.0</td>\n",
              "      <td>1.0</td>\n",
              "      <td>1.0</td>\n",
              "      <td>3.0</td>\n",
              "    </tr>\n",
              "    <tr>\n",
              "      <th>Single</th>\n",
              "      <td>477.0</td>\n",
              "      <td>0.859539</td>\n",
              "      <td>0.777289</td>\n",
              "      <td>0.0</td>\n",
              "      <td>0.0</td>\n",
              "      <td>1.0</td>\n",
              "      <td>1.0</td>\n",
              "      <td>3.0</td>\n",
              "    </tr>\n",
              "    <tr>\n",
              "      <th>Together</th>\n",
              "      <td>568.0</td>\n",
              "      <td>0.980634</td>\n",
              "      <td>0.749823</td>\n",
              "      <td>0.0</td>\n",
              "      <td>0.0</td>\n",
              "      <td>1.0</td>\n",
              "      <td>1.0</td>\n",
              "      <td>3.0</td>\n",
              "    </tr>\n",
              "    <tr>\n",
              "      <th>Widow</th>\n",
              "      <td>76.0</td>\n",
              "      <td>0.881579</td>\n",
              "      <td>0.747745</td>\n",
              "      <td>0.0</td>\n",
              "      <td>0.0</td>\n",
              "      <td>1.0</td>\n",
              "      <td>1.0</td>\n",
              "      <td>2.0</td>\n",
              "    </tr>\n",
              "  </tbody>\n",
              "</table>\n",
              "</div>\n",
              "      <button class=\"colab-df-convert\" onclick=\"convertToInteractive('df-85aebca6-1e07-4d47-bde7-431e5d46559e')\"\n",
              "              title=\"Convert this dataframe to an interactive table.\"\n",
              "              style=\"display:none;\">\n",
              "        \n",
              "  <svg xmlns=\"http://www.w3.org/2000/svg\" height=\"24px\"viewBox=\"0 0 24 24\"\n",
              "       width=\"24px\">\n",
              "    <path d=\"M0 0h24v24H0V0z\" fill=\"none\"/>\n",
              "    <path d=\"M18.56 5.44l.94 2.06.94-2.06 2.06-.94-2.06-.94-.94-2.06-.94 2.06-2.06.94zm-11 1L8.5 8.5l.94-2.06 2.06-.94-2.06-.94L8.5 2.5l-.94 2.06-2.06.94zm10 10l.94 2.06.94-2.06 2.06-.94-2.06-.94-.94-2.06-.94 2.06-2.06.94z\"/><path d=\"M17.41 7.96l-1.37-1.37c-.4-.4-.92-.59-1.43-.59-.52 0-1.04.2-1.43.59L10.3 9.45l-7.72 7.72c-.78.78-.78 2.05 0 2.83L4 21.41c.39.39.9.59 1.41.59.51 0 1.02-.2 1.41-.59l7.78-7.78 2.81-2.81c.8-.78.8-2.07 0-2.86zM5.41 20L4 18.59l7.72-7.72 1.47 1.35L5.41 20z\"/>\n",
              "  </svg>\n",
              "      </button>\n",
              "      \n",
              "  <style>\n",
              "    .colab-df-container {\n",
              "      display:flex;\n",
              "      flex-wrap:wrap;\n",
              "      gap: 12px;\n",
              "    }\n",
              "\n",
              "    .colab-df-convert {\n",
              "      background-color: #E8F0FE;\n",
              "      border: none;\n",
              "      border-radius: 50%;\n",
              "      cursor: pointer;\n",
              "      display: none;\n",
              "      fill: #1967D2;\n",
              "      height: 32px;\n",
              "      padding: 0 0 0 0;\n",
              "      width: 32px;\n",
              "    }\n",
              "\n",
              "    .colab-df-convert:hover {\n",
              "      background-color: #E2EBFA;\n",
              "      box-shadow: 0px 1px 2px rgba(60, 64, 67, 0.3), 0px 1px 3px 1px rgba(60, 64, 67, 0.15);\n",
              "      fill: #174EA6;\n",
              "    }\n",
              "\n",
              "    [theme=dark] .colab-df-convert {\n",
              "      background-color: #3B4455;\n",
              "      fill: #D2E3FC;\n",
              "    }\n",
              "\n",
              "    [theme=dark] .colab-df-convert:hover {\n",
              "      background-color: #434B5C;\n",
              "      box-shadow: 0px 1px 3px 1px rgba(0, 0, 0, 0.15);\n",
              "      filter: drop-shadow(0px 1px 2px rgba(0, 0, 0, 0.3));\n",
              "      fill: #FFFFFF;\n",
              "    }\n",
              "  </style>\n",
              "\n",
              "      <script>\n",
              "        const buttonEl =\n",
              "          document.querySelector('#df-85aebca6-1e07-4d47-bde7-431e5d46559e button.colab-df-convert');\n",
              "        buttonEl.style.display =\n",
              "          google.colab.kernel.accessAllowed ? 'block' : 'none';\n",
              "\n",
              "        async function convertToInteractive(key) {\n",
              "          const element = document.querySelector('#df-85aebca6-1e07-4d47-bde7-431e5d46559e');\n",
              "          const dataTable =\n",
              "            await google.colab.kernel.invokeFunction('convertToInteractive',\n",
              "                                                     [key], {});\n",
              "          if (!dataTable) return;\n",
              "\n",
              "          const docLinkHtml = 'Like what you see? Visit the ' +\n",
              "            '<a target=\"_blank\" href=https://colab.research.google.com/notebooks/data_table.ipynb>data table notebook</a>'\n",
              "            + ' to learn more about interactive tables.';\n",
              "          element.innerHTML = '';\n",
              "          dataTable['output_type'] = 'display_data';\n",
              "          await google.colab.output.renderOutput(dataTable, element);\n",
              "          const docLink = document.createElement('div');\n",
              "          docLink.innerHTML = docLinkHtml;\n",
              "          element.appendChild(docLink);\n",
              "        }\n",
              "      </script>\n",
              "    </div>\n",
              "  </div>\n",
              "  "
            ]
          },
          "metadata": {},
          "execution_count": 50
        }
      ]
    },
    {
      "cell_type": "code",
      "source": [
        "# vamos calcular a media de filhos por statos de união\n",
        "df.groupby([\"marital_status\"])[\"kids\"].mean()\n"
      ],
      "metadata": {
        "colab": {
          "base_uri": "https://localhost:8080/"
        },
        "id": "fNewnU81qoeH",
        "outputId": "dcb5edc1-b38e-4d3c-8aee-ec89a74d49c1"
      },
      "execution_count": null,
      "outputs": [
        {
          "output_type": "execute_result",
          "data": {
            "text/plain": [
              "marital_status\n",
              "Divorced    1.008696\n",
              "Married     0.967213\n",
              "Single      0.859539\n",
              "Together    0.980634\n",
              "Widow       0.881579\n",
              "Name: kids, dtype: float64"
            ]
          },
          "metadata": {},
          "execution_count": 51
        }
      ]
    },
    {
      "cell_type": "code",
      "source": [
        "# calculando a mediana de filhos por status de união\n",
        "df.groupby([\"marital_status\"])[\"kids\"].median()"
      ],
      "metadata": {
        "colab": {
          "base_uri": "https://localhost:8080/"
        },
        "id": "n41SaVRSq1lW",
        "outputId": "e175f16e-d1f9-41f4-a7d9-244b1811f8ca"
      },
      "execution_count": null,
      "outputs": [
        {
          "output_type": "execute_result",
          "data": {
            "text/plain": [
              "marital_status\n",
              "Divorced    1.0\n",
              "Married     1.0\n",
              "Single      1.0\n",
              "Together    1.0\n",
              "Widow       1.0\n",
              "Name: kids, dtype: float64"
            ]
          },
          "metadata": {},
          "execution_count": 52
        }
      ]
    },
    {
      "cell_type": "markdown",
      "source": [
        "Apesar dos números serem muito próximos, olhando apenas a média dizemos que single(solteiros) tem uma quantidade menor de filhos quando comparado aos outros grupos. Porém, como podemos ver no boxplot e na mediana, é um número muito próximo um do outro. Precisaríamos de um teste de hipótese para comprar as diferenças (o que eu irei fazer nas próximas semanas)"
      ],
      "metadata": {
        "id": "f_P2Dvt_rNth"
      }
    },
    {
      "cell_type": "code",
      "source": [
        "sns.boxplot(x='kids', y='expenses', data=df)"
      ],
      "metadata": {
        "colab": {
          "base_uri": "https://localhost:8080/",
          "height": 466
        },
        "id": "QShpIhYjq_Gn",
        "outputId": "0250e4e4-239b-423c-8577-9dc15c2b61e8"
      },
      "execution_count": null,
      "outputs": [
        {
          "output_type": "execute_result",
          "data": {
            "text/plain": [
              "<Axes: xlabel='kids', ylabel='expenses'>"
            ]
          },
          "metadata": {},
          "execution_count": 54
        },
        {
          "output_type": "display_data",
          "data": {
            "text/plain": [
              "<Figure size 640x480 with 1 Axes>"
            ],
            "image/png": "[encoded data removed]"
          },
          "metadata": {}
        }
      ]
    },
    {
      "cell_type": "code",
      "source": [
        "df.groupby(\"kids\")[\"expenses\"].mean()"
      ],
      "metadata": {
        "colab": {
          "base_uri": "https://localhost:8080/"
        },
        "id": "6K8PSjI_r5Mn",
        "outputId": "6cb6021d-8f7e-4ad9-8b74-69c3c8d64d6d"
      },
      "execution_count": null,
      "outputs": [
        {
          "output_type": "execute_result",
          "data": {
            "text/plain": [
              "kids\n",
              "0    1041.207006\n",
              "1     434.530576\n",
              "2     221.568675\n",
              "3     237.380000\n",
              "Name: expenses, dtype: float64"
            ]
          },
          "metadata": {},
          "execution_count": 55
        }
      ]
    },
    {
      "cell_type": "code",
      "source": [
        "df.groupby(\"kids\")[\"expenses\"].median()"
      ],
      "metadata": {
        "colab": {
          "base_uri": "https://localhost:8080/"
        },
        "id": "8-Punv3asPde",
        "outputId": "0b002ec4-24c9-4be8-9aa7-95246ea9bd0e"
      },
      "execution_count": null,
      "outputs": [
        {
          "output_type": "execute_result",
          "data": {
            "text/plain": [
              "kids\n",
              "0    1106.5\n",
              "1     264.0\n",
              "2      84.0\n",
              "3      62.0\n",
              "Name: expenses, dtype: float64"
            ]
          },
          "metadata": {},
          "execution_count": 57
        }
      ]
    },
    {
      "cell_type": "markdown",
      "source": [
        "Podemos ver que tanto a média quanto a mediana 0 e 1 filho é maior nessa amostra de dados, porém a média de 2 filhos é menor do que de 3 filhos, enquanto a mediana de 2 filhos é maior do que de 3 filhos.\n",
        "Ambos os grupos 2 e 3 tem médias bem maiores do que a mediana, indicando outliers superiores (o próprio gráfico já mostra isso). Grupo 1 também tem outliers superiores, mas essa diferença é menos acentuada.\n",
        "Pessoas com nenhum filho tem uma distribuição um pouco mais similar a uma normal (sem outliers, e mediana levemente centrada do meio do boxplot)"
      ],
      "metadata": {
        "id": "4QhHTC65sb7k"
      }
    },
    {
      "cell_type": "code",
      "source": [
        "# iremos fazer um gráfico de dispersão para mostrar o \"expenses\" vs \"income\"\n",
        "plt.scatter(df[\"expenses\"], df[\"Income\"])\n",
        "plt.show()"
      ],
      "metadata": {
        "colab": {
          "base_uri": "https://localhost:8080/",
          "height": 430
        },
        "id": "98QiSaj5sS6G",
        "outputId": "b109a4b9-56ec-468d-8b6d-4d87e1a84991"
      },
      "execution_count": null,
      "outputs": [
        {
          "output_type": "display_data",
          "data": {
            "text/plain": [
              "<Figure size 640x480 with 1 Axes>"
            ],
            "image/png": "[encoded data removed]"
          },
          "metadata": {}
        }
      ]
    },
    {
      "cell_type": "markdown",
      "source": [
        "A correlação de pearson é dada pela fórmula abaixo. O resultado foi 0.82."
      ],
      "metadata": {
        "id": "j8RjZtCztBXD"
      }
    },
    {
      "cell_type": "code",
      "source": [
        "df[\"expenses\"].corr(df[\"Income\"])"
      ],
      "metadata": {
        "colab": {
          "base_uri": "https://localhost:8080/"
        },
        "id": "BUMV_4P8s6cG",
        "outputId": "3d4d412b-e4e1-4f00-9407-db7a056bffdd"
      },
      "execution_count": null,
      "outputs": [
        {
          "output_type": "execute_result",
          "data": {
            "text/plain": [
              "0.8230660021398378"
            ]
          },
          "metadata": {},
          "execution_count": 59
        }
      ]
    },
    {
      "cell_type": "markdown",
      "source": [
        "Aparentemente existe uma correlação diretamente proporcional, em que pessoas que ganham mais também gastam mais"
      ],
      "metadata": {
        "id": "-dEM-yx5tIK1"
      }
    }
  ]
}